{
  "cells": [
    {
      "cell_type": "code",
      "execution_count": 24,
      "metadata": {
        "id": "lkhFLVUSVbGd"
      },
      "outputs": [],
      "source": [
        "# 1) PyTorch 2.1.0 제거-후 2.0.1 설치\n",
        "#!pip install torch==2.0.1+cu118 torchvision==0.15.2+cu118 torchaudio==2.0.2+cu118 \\\n",
        " #   --index-url https://download.pytorch.org/whl/cu118 --force-reinstall"
      ]
    },
    {
      "cell_type": "code",
      "execution_count": 25,
      "metadata": {
        "id": "oBROOwS8Vayp"
      },
      "outputs": [],
      "source": [
        "#!pip install functorch --upgrade"
      ]
    },
    {
      "cell_type": "code",
      "execution_count": 26,
      "metadata": {
        "id": "mSzBWN4GcB06"
      },
      "outputs": [],
      "source": [
        "#@title Attention Is All You Need\n",
        "# encoder - 6 layers - 2 sublayers - MHA, FFN\n",
        "# decoder – 6 layers – 3 sublayers – masked MHA, MHA, FFN\n",
        "\n",
        "import torch\n",
        "from torch import nn\n",
        "import functorch\n",
        "import math\n",
        "import datasets\n",
        "import spacy\n",
        "from torch.utils.data import Dataset, DataLoader\n",
        "from collections import Counter\n",
        "import torch.nn.functional as F\n",
        "from torch import optim\n",
        "from tqdm import tqdm\n",
        "import matplotlib.pyplot as plt\n",
        "\n",
        "class Attention(nn.Module):\n",
        "  def __init__(self, d_model = 512, num_heads = 8, dropout = 0.1):\n",
        "    super().__init__()\n",
        "\n",
        "    self.d_model = d_model\n",
        "    self.num_heads = num_heads\n",
        "    self.d_k = d_model // num_heads\n",
        "\n",
        "    assert d_model % num_heads == 0, \"d_model must be divisible by num_heads\"\n",
        "\n",
        "    self.w_q = nn.Linear(d_model, d_model)\n",
        "    self.w_k = nn.Linear(d_model, d_model)\n",
        "    self.w_v = nn.Linear(d_model, d_model)\n",
        "    self.w_o = nn.Linear(d_model, d_model)\n",
        "\n",
        "    self.dropout = nn.Dropout(dropout)\n",
        "\n",
        "  def forward(self, x, mask = None): # mask is optional\n",
        "    b, s, _ = x.size() # b = batch_size, s = seq_len\n",
        "    # (bs, seq, num_heads, d_k) → (bs, num_heads, seq, d_k)\n",
        "    q = self.w_q(x).view(b, s, self.num_heads, self.d_k).transpose(1,2)\n",
        "    k = self.w_k(x).view(b, s, self.num_heads, self.d_k).transpose(1,2)\n",
        "    v = self.w_v(x).view(b, s, self.num_heads, self.d_k).transpose(1,2)\n",
        "\n",
        "    # scaling dividing by math.sqrt(self.d_k)\n",
        "    attn_out = torch.matmul(q, k.transpose(-2, -1)) / math.sqrt(self.d_k)\n",
        "    if mask is not None:\n",
        "      # mask changes pos 0 to -inf so that makes prob to 0 after softmax\n",
        "      attn_out = attn_out.masked_fill(mask == 0, float('-inf'))\n",
        "    attn_out = torch.softmax(attn_out, dim=-1)\n",
        "    attn_out = self.dropout(attn_out)\n",
        "    attn_out = torch.matmul(attn_out, v)\n",
        "    attn_out = attn_out.transpose(1,2).reshape(b, s, self.d_model)\n",
        "    attn_out = self.w_o(attn_out)\n",
        "\n",
        "    return attn_out\n",
        "\n",
        "class MultiHeadAttention(nn.Module):\n",
        "  def __init__(self, d_model = 512, num_heads = 8, dropout = 0.1):\n",
        "    super().__init__()\n",
        "    self.d_model = d_model\n",
        "    self.num_heads = num_heads\n",
        "    self.d_k = d_model // num_heads\n",
        "\n",
        "    assert d_model % num_heads == 0, \"d_model must be divisible by num_heads\"\n",
        "\n",
        "    self.w_q = nn.Linear(d_model, d_model)\n",
        "    self.w_k = nn.Linear(d_model, d_model)\n",
        "    self.w_v = nn.Linear(d_model, d_model)\n",
        "    self.w_o = nn.Linear(d_model, d_model)\n",
        "\n",
        "    self.dropout = nn.Dropout(dropout)\n",
        "\n",
        "  def forward(self, q, k, v, mask = None):\n",
        "    b, q_len, _ = q.size() # b = batch_size, s = seq_len\n",
        "    b, kv_len, _ = k.size()\n",
        "    # (bs, seq, num_heads, d_k) → (bs, num_heads, seq, d_k)\n",
        "    q = self.w_q(q).view(b, q_len, self.num_heads, self.d_k).transpose(1,2)\n",
        "    k = self.w_k(k).view(b, kv_len, self.num_heads, self.d_k).transpose(1,2)\n",
        "    v = self.w_v(v).view(b, kv_len, self.num_heads, self.d_k).transpose(1,2)\n",
        "\n",
        "    # scaling dividing by math.sqrt(self.d_k)\n",
        "    attn_out = torch.matmul(q, k.transpose(-2, -1)) / math.sqrt(self.d_k)\n",
        "    if mask is not None:\n",
        "      # mask changes pos 0 to -inf so that makes prob to 0 after softmax\n",
        "      attn_out = attn_out.masked_fill(mask == 0, float('-inf'))\n",
        "    attn_out = torch.softmax(attn_out, dim=-1)\n",
        "    attn_out = self.dropout(attn_out)\n",
        "    attn_out = torch.matmul(attn_out, v)\n",
        "    attn_out = attn_out.transpose(1,2).reshape(b, q_len, self.d_model)\n",
        "    attn_out = self.w_o(attn_out)\n",
        "\n",
        "    return attn_out\n",
        "\n",
        "def look_ahead_mask_(size):\n",
        "    mask = torch.tril(torch.ones(size, size))\n",
        "\n",
        "    return mask.unsqueeze(0).unsqueeze(0)  # (1, 1, size, size)\n",
        "\n",
        "class Encoder(nn.Module):\n",
        "  def __init__(self, d_model = 512, num_heads = 8, dropout = 0.1):\n",
        "    super().__init__()\n",
        "\n",
        "    self.self_attention = MultiHeadAttention(d_model, num_heads, dropout)\n",
        "    self.dropout1 = nn.Dropout(dropout)\n",
        "    self.layer_norm1 = nn.LayerNorm(d_model)\n",
        "\n",
        "    self.ffn = FeedForward(d_model)\n",
        "    self.dropout2 = nn.Dropout(dropout)\n",
        "    self.layer_norm2 = nn.LayerNorm(d_model)\n",
        "\n",
        "  def forward(self, x, mask = None):\n",
        "    attention_out = self.self_attention(x, x, x, mask)\n",
        "    x = x + self.dropout1(attention_out)\n",
        "    x = self.layer_norm1(x)\n",
        "\n",
        "    ffn_out = self.ffn(x)\n",
        "    x = x + self.dropout2(ffn_out)\n",
        "    x = self.layer_norm2(x)\n",
        "\n",
        "    return x\n",
        "\n",
        "class Decoder(nn.Module):\n",
        "  def __init__(self, d_model = 512, num_heads = 8, dropout = 0.1):\n",
        "    super().__init__()\n",
        "\n",
        "    self.self_attention = MultiHeadAttention(d_model, num_heads, dropout) #Masked MHA\n",
        "    self.dropout1 = nn.Dropout(dropout)\n",
        "    self.layer_norm1 = nn.LayerNorm(d_model)\n",
        "\n",
        "    self.enc_dec_attention = MultiHeadAttention(d_model, num_heads, dropout) #Masked MHA\n",
        "    self.dropout2 = nn.Dropout(dropout)\n",
        "    self.layer_norm2 = nn.LayerNorm(d_model)\n",
        "\n",
        "    self.ffn = FeedForward(d_model)\n",
        "    self.dropout3 = nn.Dropout(dropout)\n",
        "    self.layer_norm3 = nn.LayerNorm(d_model)\n",
        "\n",
        "  def forward(self, x, enc_output, look_ahead_mask_ = None, mask = None):\n",
        "    attention_out = self.self_attention(x, x, x, look_ahead_mask_)\n",
        "    x = x + self.dropout1(attention_out)\n",
        "    x = self.layer_norm1(x)\n",
        "\n",
        "    attention_out = self.enc_dec_attention(x, enc_output, enc_output, mask)\n",
        "    x = x + self.dropout2(attention_out)\n",
        "    x = self.layer_norm2(x)\n",
        "\n",
        "    ffn_out = self.ffn(x)\n",
        "    x = x + self.dropout3(ffn_out)\n",
        "    x = self.layer_norm3(x)\n",
        "\n",
        "    return x\n",
        "\n",
        "class EncoderStack(nn.Module):\n",
        "    def __init__(self, num_layers = 6, d_model = 512, num_heads = 8, dropout = 0.1):\n",
        "        super().__init__()\n",
        "        self.layers = nn.ModuleList([\n",
        "            Encoder(d_model, num_heads, dropout)\n",
        "            for _ in range(num_layers)\n",
        "        ])\n",
        "\n",
        "    def forward(self, x, mask=None):\n",
        "        for layer in self.layers:\n",
        "            x = layer(x, mask)\n",
        "        return x\n",
        "\n",
        "class DecoderStack(nn.Module):\n",
        "    def __init__(self, num_layers = 6, d_model = 512, num_heads = 8, dropout = 0.1):\n",
        "        super().__init__()\n",
        "        self.layers = nn.ModuleList([\n",
        "            Decoder(d_model, num_heads, dropout)\n",
        "            for _ in range(num_layers)\n",
        "        ])\n",
        "\n",
        "    def forward(self, x, enc_output, look_ahead_mask_=None, mask=None):\n",
        "        for layer in self.layers:\n",
        "            x = layer(x, enc_output, look_ahead_mask_, mask)\n",
        "        return x\n",
        "\n",
        "\n",
        "class FeedForward(nn.Module):\n",
        "  def __init__(self, d_model = 512, num_heads = 8, d_ff = 2048, dropout = 0.1):\n",
        "    super().__init__()\n",
        "\n",
        "    self.linear1 = nn.Linear(d_model, d_ff)\n",
        "    self.relu1 = nn.ReLU()\n",
        "    self.linear2 = nn.Linear(d_ff, d_model)\n",
        "\n",
        "  def forward(self, x):\n",
        "    x = self.linear1(x)\n",
        "    x = self.relu1(x)\n",
        "    x = self.linear2(x)\n",
        "\n",
        "    return x\n",
        "\n",
        "class Embedding(nn.Module):\n",
        "  def __init__(self, vocab_size, d_model = 512): # vocab_size is the total number of words/tokens\n",
        "    super().__init__()\n",
        "    self.d_model = d_model\n",
        "    self.emb = nn.Embedding(vocab_size, d_model)\n",
        "\n",
        "  def forward(self, x):\n",
        "    return self.emb(x) * math.sqrt(self.d_model)\n",
        "\n",
        "class PositionalEncoding(nn.Module):\n",
        "  def __init__(self, d_model = 512, max_len = 5000, dropout=0.1): # vocab_size is the total number of words/tokens\n",
        "    super().__init__()\n",
        "    self.d_model = d_model\n",
        "    self.dropout = nn.Dropout(dropout)\n",
        "\n",
        "    pe = torch.zeros(max_len, d_model)\n",
        "    position = torch.arange(0, max_len).unsqueeze(1)\n",
        "    dim = torch.arange(0, d_model, 2)\n",
        "    pe[:, 0::2] = torch.sin(position / (10_000 ** (dim / self.d_model)))\n",
        "    pe[:, 1::2] = torch.cos(position / (10_000 ** (dim / self.d_model)))\n",
        "\n",
        "    pe = pe.unsqueeze(0)  # (1, max_len, d_model)\n",
        "    self.register_buffer('pe', pe)\n",
        "\n",
        "  def forward(self, x):\n",
        "    x = x + self.pe[:, : x.size(1)].detach()\n",
        "    return self.dropout(x)\n",
        "\n",
        "class Transformer(nn.Module):\n",
        "    def __init__(self, src_vocab_size, tgt_vocab_size, d_model=512, num_heads=8, num_layers=6, dropout=0.1):\n",
        "        super().__init__()\n",
        "\n",
        "        self.src_embedding = Embedding(src_vocab_size, d_model)\n",
        "        self.tgt_embedding = Embedding(tgt_vocab_size, d_model)\n",
        "        self.pos_encoding = PositionalEncoding(d_model)\n",
        "\n",
        "        self.encoder = EncoderStack(num_layers, d_model, num_heads, dropout)\n",
        "        self.decoder = DecoderStack(num_layers, d_model, num_heads, dropout)\n",
        "\n",
        "        self.fc_out = nn.Linear(d_model, tgt_vocab_size)\n",
        "\n",
        "    def forward(self, src, tgt, src_mask=None, tgt_mask=None):\n",
        "        src = self.src_embedding(src)\n",
        "        src = self.pos_encoding(src)\n",
        "\n",
        "        tgt = self.tgt_embedding(tgt)\n",
        "        tgt = self.pos_encoding(tgt)\n",
        "\n",
        "        enc_output = self.encoder(src, src_mask)\n",
        "        dec_output = self.decoder(tgt, enc_output, tgt_mask, src_mask)\n",
        "\n",
        "        output = self.fc_out(dec_output)\n",
        "        return output"
      ]
    },
    {
      "cell_type": "code",
      "execution_count": 27,
      "metadata": {
        "colab": {
          "base_uri": "https://localhost:8080/"
        },
        "id": "Dns0VvQ9sRer",
        "outputId": "5a91a844-4b5d-43d2-f66f-a718c849646a"
      },
      "outputs": [
        {
          "output_type": "stream",
          "name": "stdout",
          "text": [
            "Collecting en-core-web-sm==3.8.0\n",
            "  Downloading https://github.com/explosion/spacy-models/releases/download/en_core_web_sm-3.8.0/en_core_web_sm-3.8.0-py3-none-any.whl (12.8 MB)\n",
            "\u001b[2K     \u001b[90m━━━━━━━━━━━━━━━━━━━━━━━━━━━━━━━━━━━━━━━\u001b[0m \u001b[32m12.8/12.8 MB\u001b[0m \u001b[31m128.6 MB/s\u001b[0m eta \u001b[36m0:00:00\u001b[0m\n",
            "\u001b[?25h\u001b[38;5;2m✔ Download and installation successful\u001b[0m\n",
            "You can now load the package via spacy.load('en_core_web_sm')\n",
            "\u001b[38;5;3m⚠ Restart to reload dependencies\u001b[0m\n",
            "If you are in a Jupyter or Colab notebook, you may need to restart Python in\n",
            "order to load all the package's dependencies. You can do this by selecting the\n",
            "'Restart kernel' or 'Restart runtime' option.\n",
            "Collecting de-core-news-sm==3.8.0\n",
            "  Downloading https://github.com/explosion/spacy-models/releases/download/de_core_news_sm-3.8.0/de_core_news_sm-3.8.0-py3-none-any.whl (14.6 MB)\n",
            "\u001b[2K     \u001b[90m━━━━━━━━━━━━━━━━━━━━━━━━━━━━━━━━━━━━━━━━\u001b[0m \u001b[32m14.6/14.6 MB\u001b[0m \u001b[31m83.6 MB/s\u001b[0m eta \u001b[36m0:00:00\u001b[0m\n",
            "\u001b[?25h\u001b[38;5;2m✔ Download and installation successful\u001b[0m\n",
            "You can now load the package via spacy.load('de_core_news_sm')\n",
            "\u001b[38;5;3m⚠ Restart to reload dependencies\u001b[0m\n",
            "If you are in a Jupyter or Colab notebook, you may need to restart Python in\n",
            "order to load all the package's dependencies. You can do this by selecting the\n",
            "'Restart kernel' or 'Restart runtime' option.\n"
          ]
        }
      ],
      "source": [
        "!pip install -q datasets spacy\n",
        "!python -m spacy download en_core_web_sm\n",
        "!python -m spacy download de_core_news_sm"
      ]
    },
    {
      "cell_type": "code",
      "execution_count": 28,
      "metadata": {
        "id": "4bud_WRDtkpB"
      },
      "outputs": [],
      "source": [
        "#!pip install numpy --upgrade --force-reinstall\n",
        "import numpy as np"
      ]
    },
    {
      "cell_type": "code",
      "execution_count": 29,
      "metadata": {
        "colab": {
          "base_uri": "https://localhost:8080/"
        },
        "id": "O1B3syDjZ1LP",
        "outputId": "fb725f78-08cc-4ab9-86c4-d29474d60bf5"
      },
      "outputs": [
        {
          "output_type": "stream",
          "name": "stdout",
          "text": [
            "SRC (input): torch.Size([32, 42])\n",
            "TGT (target): torch.Size([32, 41])\n",
            "Source Vocab Size: 12470\n",
            "Target Vocab Size: 17332\n"
          ]
        }
      ],
      "source": [
        "# Tokenizer\n",
        "spacy_de = spacy.load(\"de_core_news_sm\")\n",
        "spacy_en = spacy.load(\"en_core_web_sm\")\n",
        "\n",
        "def tokenize_de(text):\n",
        "    return [tok.text.lower() for tok in spacy_de.tokenizer(text)]\n",
        "\n",
        "def tokenize_en(text):\n",
        "    return [tok.text.lower() for tok in spacy_en.tokenizer(text)]\n",
        "\n",
        "# Data loading\n",
        "raw_data = datasets.load_dataset(\"opus_books\", \"de-en\")\n",
        "raw_data = raw_data[\"train\"].train_test_split(test_size=0.1)\n",
        "train_data = raw_data[\"train\"]\n",
        "val_data = raw_data[\"test\"]\n",
        "\n",
        "# Max length of sentence\n",
        "MAX_LEN = 40\n",
        "\n",
        "# Data preprocessing\n",
        "def preprocess(data):\n",
        "    src_tokenized = []\n",
        "    tgt_tokenized = []\n",
        "    for ex in data:\n",
        "        src = tokenize_en(ex[\"translation\"][\"en\"])\n",
        "        tgt = tokenize_de(ex[\"translation\"][\"de\"])\n",
        "        if len(src) <= MAX_LEN and len(tgt) <= MAX_LEN:\n",
        "            src_tokenized.append([\"<sos>\"] + src + [\"<eos>\"])\n",
        "            tgt_tokenized.append([\"<sos>\"] + tgt + [\"<eos>\"])\n",
        "    return src_tokenized, tgt_tokenized\n",
        "\n",
        "src_sentences, tgt_sentences = preprocess(train_data)\n",
        "\n",
        "# Generating vocabulary\n",
        "def build_vocab(sentences, min_freq=2):\n",
        "    counter = Counter()\n",
        "    for sent in sentences:\n",
        "        counter.update(sent)\n",
        "    vocab = {\"<pad>\": 0, \"<sos>\": 1, \"<eos>\": 2, \"<unk>\": 3}\n",
        "    for word, freq in counter.items():\n",
        "        if freq >= min_freq and word not in vocab:\n",
        "            vocab[word] = len(vocab)\n",
        "    return vocab\n",
        "\n",
        "src_vocab = build_vocab(src_sentences)\n",
        "tgt_vocab = build_vocab(tgt_sentences)\n",
        "\n",
        "# Tensor transformation\n",
        "def numericalize(sent, vocab):\n",
        "    return [vocab.get(tok, vocab[\"<unk>\"]) for tok in sent]\n",
        "\n",
        "class TranslationDataset(Dataset):\n",
        "    def __init__(self, src_sentences, tgt_sentences, src_vocab, tgt_vocab):\n",
        "        self.src = src_sentences\n",
        "        self.tgt = tgt_sentences\n",
        "        self.src_vocab = src_vocab\n",
        "        self.tgt_vocab = tgt_vocab\n",
        "\n",
        "    def __len__(self):\n",
        "        return len(self.src)\n",
        "\n",
        "    def __getitem__(self, idx):\n",
        "        src_tensor = torch.tensor(numericalize(self.src[idx], self.src_vocab))\n",
        "        tgt_tensor = torch.tensor(numericalize(self.tgt[idx], self.tgt_vocab))\n",
        "        return src_tensor, tgt_tensor\n",
        "\n",
        "def collate_fn(batch):\n",
        "    src_batch, tgt_batch = zip(*batch)\n",
        "    src_batch = torch.nn.utils.rnn.pad_sequence(src_batch, batch_first=True, padding_value=src_vocab[\"<pad>\"])\n",
        "    tgt_batch = torch.nn.utils.rnn.pad_sequence(tgt_batch, batch_first=True, padding_value=tgt_vocab[\"<pad>\"])\n",
        "    return src_batch, tgt_batch\n",
        "\n",
        "# DataLoader\n",
        "train_dataset = TranslationDataset(src_sentences, tgt_sentences, src_vocab, tgt_vocab)\n",
        "train_loader = DataLoader(train_dataset, batch_size=32, shuffle=True, collate_fn=collate_fn)\n",
        "\n",
        "# Verification\n",
        "for src, tgt in train_loader:\n",
        "    print(\"SRC (input):\", src.shape)  # [batch_size, src_len]\n",
        "    print(\"TGT (target):\", tgt.shape)  # [batch_size, tgt_len]\n",
        "    break\n",
        "\n",
        "# Total number of vocabulary\n",
        "print(f\"Source Vocab Size: {len(src_vocab)}\")\n",
        "print(f\"Target Vocab Size: {len(tgt_vocab)}\")\n"
      ]
    },
    {
      "cell_type": "code",
      "execution_count": 30,
      "metadata": {
        "colab": {
          "base_uri": "https://localhost:8080/"
        },
        "id": "-Z5z06hWjtT7",
        "outputId": "f72c8bcc-1187-4ac5-c31a-cfc5b9ed37ba"
      },
      "outputs": [
        {
          "output_type": "stream",
          "name": "stdout",
          "text": [
            "Output shape: torch.Size([32, 41, 17332])\n",
            "Target shape: torch.Size([32, 41])\n"
          ]
        }
      ],
      "source": [
        "#@title batch for the model\n",
        "# Device Setting\n",
        "device = torch.device(\"cuda\" if torch.cuda.is_available() else \"cpu\")\n",
        "\n",
        "# Generating mask\n",
        "def make_src_mask(src, pad_idx):\n",
        "    return (src != pad_idx).unsqueeze(1).unsqueeze(2)  # [B, 1, 1, src_len]\n",
        "\n",
        "def make_tgt_mask(tgt, pad_idx):\n",
        "    B, T = tgt.size()\n",
        "\n",
        "    # Padding mask\n",
        "    pad_mask = (tgt != pad_idx).unsqueeze(1).unsqueeze(2)  # [B, 1, 1, T]\n",
        "\n",
        "    # Look-ahead mask\n",
        "    look_ahead_mask = torch.tril(torch.ones((T, T), device=tgt.device)).bool()  # [T, T]\n",
        "    look_ahead_mask = look_ahead_mask.unsqueeze(0).unsqueeze(1)  # [1, 1, T, T]\n",
        "\n",
        "    return pad_mask & look_ahead_mask # [B, 1, T, T]\n",
        "\n",
        "# Transformer model\n",
        "model = Transformer(\n",
        "    src_vocab_size=len(src_vocab),\n",
        "    tgt_vocab_size=len(tgt_vocab),\n",
        "    d_model=512,\n",
        "    num_heads=8,\n",
        "    num_layers=6,\n",
        "    dropout=0.1\n",
        ").to(device)\n",
        "\n",
        "# Example batch to check Forward pass\n",
        "pad_idx_src = src_vocab[\"<pad>\"]\n",
        "pad_idx_tgt = tgt_vocab[\"<pad>\"]\n",
        "\n",
        "# A batch for the model\n",
        "for src_batch, tgt_batch in train_loader:\n",
        "    # input: src, tgt_input / output: tgt_output\n",
        "    src = src_batch.to(device)\n",
        "    tgt_input = tgt_batch[:, :-1].to(device)\n",
        "    tgt_output = tgt_batch[:, 1:].to(device)\n",
        "\n",
        "    src_mask = make_src_mask(src, pad_idx_src).to(device)\n",
        "    tgt_mask = make_tgt_mask(tgt_input, pad_idx_tgt).to(device)\n",
        "\n",
        "    # Output verification\n",
        "    with torch.no_grad():\n",
        "      output = model(src, tgt_input, src_mask=src_mask, tgt_mask=tgt_mask)\n",
        "    print(\"Output shape:\", output.shape) # [B, tgt_len-1, vocab]\n",
        "    print(\"Target shape:\", tgt_output.shape) # [B, tgt_len-1]\n",
        "\n",
        "    break\n"
      ]
    },
    {
      "cell_type": "code",
      "execution_count": 31,
      "metadata": {
        "colab": {
          "base_uri": "https://localhost:8080/"
        },
        "id": "84_k2EANkAtY",
        "outputId": "dd56329e-6189-45c5-b97b-a6811e8c6df4"
      },
      "outputs": [
        {
          "output_type": "stream",
          "name": "stderr",
          "text": [
            "[Train Epoch 1]: 100%|██████████| 1159/1159 [02:51<00:00,  6.76it/s]\n"
          ]
        },
        {
          "output_type": "stream",
          "name": "stdout",
          "text": [
            "[Epoch 1] Train Loss: 5.2945\n"
          ]
        },
        {
          "output_type": "stream",
          "name": "stderr",
          "text": [
            "[Train Epoch 2]: 100%|██████████| 1159/1159 [02:50<00:00,  6.82it/s]\n"
          ]
        },
        {
          "output_type": "stream",
          "name": "stdout",
          "text": [
            "[Epoch 2] Train Loss: 4.4841\n"
          ]
        },
        {
          "output_type": "stream",
          "name": "stderr",
          "text": [
            "[Train Epoch 3]: 100%|██████████| 1159/1159 [02:49<00:00,  6.82it/s]\n"
          ]
        },
        {
          "output_type": "stream",
          "name": "stdout",
          "text": [
            "[Epoch 3] Train Loss: 4.0981\n"
          ]
        },
        {
          "output_type": "stream",
          "name": "stderr",
          "text": [
            "[Train Epoch 4]: 100%|██████████| 1159/1159 [02:49<00:00,  6.84it/s]\n"
          ]
        },
        {
          "output_type": "stream",
          "name": "stdout",
          "text": [
            "[Epoch 4] Train Loss: 3.7931\n"
          ]
        },
        {
          "output_type": "stream",
          "name": "stderr",
          "text": [
            "[Train Epoch 5]: 100%|██████████| 1159/1159 [02:50<00:00,  6.82it/s]\n"
          ]
        },
        {
          "output_type": "stream",
          "name": "stdout",
          "text": [
            "[Epoch 5] Train Loss: 3.5297\n"
          ]
        },
        {
          "output_type": "stream",
          "name": "stderr",
          "text": [
            "[Train Epoch 6]: 100%|██████████| 1159/1159 [02:49<00:00,  6.83it/s]\n"
          ]
        },
        {
          "output_type": "stream",
          "name": "stdout",
          "text": [
            "[Epoch 6] Train Loss: 3.2850\n"
          ]
        },
        {
          "output_type": "stream",
          "name": "stderr",
          "text": [
            "[Train Epoch 7]: 100%|██████████| 1159/1159 [02:49<00:00,  6.83it/s]\n"
          ]
        },
        {
          "output_type": "stream",
          "name": "stdout",
          "text": [
            "[Epoch 7] Train Loss: 3.0516\n"
          ]
        },
        {
          "output_type": "stream",
          "name": "stderr",
          "text": [
            "[Train Epoch 8]: 100%|██████████| 1159/1159 [02:49<00:00,  6.84it/s]\n"
          ]
        },
        {
          "output_type": "stream",
          "name": "stdout",
          "text": [
            "[Epoch 8] Train Loss: 2.8216\n"
          ]
        },
        {
          "output_type": "stream",
          "name": "stderr",
          "text": [
            "[Train Epoch 9]: 100%|██████████| 1159/1159 [02:49<00:00,  6.84it/s]\n"
          ]
        },
        {
          "output_type": "stream",
          "name": "stdout",
          "text": [
            "[Epoch 9] Train Loss: 2.5951\n"
          ]
        },
        {
          "output_type": "stream",
          "name": "stderr",
          "text": [
            "[Train Epoch 10]: 100%|██████████| 1159/1159 [02:49<00:00,  6.84it/s]\n"
          ]
        },
        {
          "output_type": "stream",
          "name": "stdout",
          "text": [
            "[Epoch 10] Train Loss: 2.3789\n"
          ]
        },
        {
          "output_type": "stream",
          "name": "stderr",
          "text": [
            "[Train Epoch 11]: 100%|██████████| 1159/1159 [02:49<00:00,  6.84it/s]\n"
          ]
        },
        {
          "output_type": "stream",
          "name": "stdout",
          "text": [
            "[Epoch 11] Train Loss: 2.1562\n"
          ]
        },
        {
          "output_type": "stream",
          "name": "stderr",
          "text": [
            "[Train Epoch 12]: 100%|██████████| 1159/1159 [02:49<00:00,  6.83it/s]\n"
          ]
        },
        {
          "output_type": "stream",
          "name": "stdout",
          "text": [
            "[Epoch 12] Train Loss: 1.9449\n"
          ]
        },
        {
          "output_type": "stream",
          "name": "stderr",
          "text": [
            "[Train Epoch 13]: 100%|██████████| 1159/1159 [02:49<00:00,  6.84it/s]\n"
          ]
        },
        {
          "output_type": "stream",
          "name": "stdout",
          "text": [
            "[Epoch 13] Train Loss: 1.7433\n"
          ]
        },
        {
          "output_type": "stream",
          "name": "stderr",
          "text": [
            "[Train Epoch 14]: 100%|██████████| 1159/1159 [02:49<00:00,  6.83it/s]\n"
          ]
        },
        {
          "output_type": "stream",
          "name": "stdout",
          "text": [
            "[Epoch 14] Train Loss: 1.5590\n"
          ]
        },
        {
          "output_type": "stream",
          "name": "stderr",
          "text": [
            "[Train Epoch 15]: 100%|██████████| 1159/1159 [02:49<00:00,  6.83it/s]\n"
          ]
        },
        {
          "output_type": "stream",
          "name": "stdout",
          "text": [
            "[Epoch 15] Train Loss: 1.3865\n"
          ]
        },
        {
          "output_type": "stream",
          "name": "stderr",
          "text": [
            "[Train Epoch 16]: 100%|██████████| 1159/1159 [02:49<00:00,  6.83it/s]\n"
          ]
        },
        {
          "output_type": "stream",
          "name": "stdout",
          "text": [
            "[Epoch 16] Train Loss: 1.2347\n"
          ]
        },
        {
          "output_type": "stream",
          "name": "stderr",
          "text": [
            "[Train Epoch 17]: 100%|██████████| 1159/1159 [02:49<00:00,  6.83it/s]\n"
          ]
        },
        {
          "output_type": "stream",
          "name": "stdout",
          "text": [
            "[Epoch 17] Train Loss: 1.0946\n"
          ]
        },
        {
          "output_type": "stream",
          "name": "stderr",
          "text": [
            "[Train Epoch 18]: 100%|██████████| 1159/1159 [02:49<00:00,  6.82it/s]\n"
          ]
        },
        {
          "output_type": "stream",
          "name": "stdout",
          "text": [
            "[Epoch 18] Train Loss: 0.9739\n"
          ]
        },
        {
          "output_type": "stream",
          "name": "stderr",
          "text": [
            "[Train Epoch 19]: 100%|██████████| 1159/1159 [02:49<00:00,  6.85it/s]\n"
          ]
        },
        {
          "output_type": "stream",
          "name": "stdout",
          "text": [
            "[Epoch 19] Train Loss: 0.8709\n"
          ]
        },
        {
          "output_type": "stream",
          "name": "stderr",
          "text": [
            "[Train Epoch 20]: 100%|██████████| 1159/1159 [02:49<00:00,  6.83it/s]\n"
          ]
        },
        {
          "output_type": "stream",
          "name": "stdout",
          "text": [
            "[Epoch 20] Train Loss: 0.7765\n"
          ]
        },
        {
          "output_type": "stream",
          "name": "stderr",
          "text": [
            "[Train Epoch 21]: 100%|██████████| 1159/1159 [02:49<00:00,  6.83it/s]\n"
          ]
        },
        {
          "output_type": "stream",
          "name": "stdout",
          "text": [
            "[Epoch 21] Train Loss: 0.6996\n"
          ]
        },
        {
          "output_type": "stream",
          "name": "stderr",
          "text": [
            "[Train Epoch 22]: 100%|██████████| 1159/1159 [02:49<00:00,  6.83it/s]\n"
          ]
        },
        {
          "output_type": "stream",
          "name": "stdout",
          "text": [
            "[Epoch 22] Train Loss: 0.6313\n"
          ]
        },
        {
          "output_type": "stream",
          "name": "stderr",
          "text": [
            "[Train Epoch 23]: 100%|██████████| 1159/1159 [02:49<00:00,  6.83it/s]\n"
          ]
        },
        {
          "output_type": "stream",
          "name": "stdout",
          "text": [
            "[Epoch 23] Train Loss: 0.5811\n"
          ]
        },
        {
          "output_type": "stream",
          "name": "stderr",
          "text": [
            "[Train Epoch 24]: 100%|██████████| 1159/1159 [02:50<00:00,  6.82it/s]\n"
          ]
        },
        {
          "output_type": "stream",
          "name": "stdout",
          "text": [
            "[Epoch 24] Train Loss: 0.5287\n"
          ]
        },
        {
          "output_type": "stream",
          "name": "stderr",
          "text": [
            "[Train Epoch 25]: 100%|██████████| 1159/1159 [02:49<00:00,  6.82it/s]\n"
          ]
        },
        {
          "output_type": "stream",
          "name": "stdout",
          "text": [
            "[Epoch 25] Train Loss: 0.4928\n"
          ]
        },
        {
          "output_type": "stream",
          "name": "stderr",
          "text": [
            "[Train Epoch 26]: 100%|██████████| 1159/1159 [02:49<00:00,  6.84it/s]\n"
          ]
        },
        {
          "output_type": "stream",
          "name": "stdout",
          "text": [
            "[Epoch 26] Train Loss: 0.4500\n"
          ]
        },
        {
          "output_type": "stream",
          "name": "stderr",
          "text": [
            "[Train Epoch 27]: 100%|██████████| 1159/1159 [02:49<00:00,  6.83it/s]\n"
          ]
        },
        {
          "output_type": "stream",
          "name": "stdout",
          "text": [
            "[Epoch 27] Train Loss: 0.4263\n"
          ]
        },
        {
          "output_type": "stream",
          "name": "stderr",
          "text": [
            "[Train Epoch 28]: 100%|██████████| 1159/1159 [02:49<00:00,  6.84it/s]\n"
          ]
        },
        {
          "output_type": "stream",
          "name": "stdout",
          "text": [
            "[Epoch 28] Train Loss: 0.4002\n"
          ]
        },
        {
          "output_type": "stream",
          "name": "stderr",
          "text": [
            "[Train Epoch 29]: 100%|██████████| 1159/1159 [02:49<00:00,  6.83it/s]\n"
          ]
        },
        {
          "output_type": "stream",
          "name": "stdout",
          "text": [
            "[Epoch 29] Train Loss: 0.3792\n"
          ]
        },
        {
          "output_type": "stream",
          "name": "stderr",
          "text": [
            "[Train Epoch 30]: 100%|██████████| 1159/1159 [02:49<00:00,  6.83it/s]\n"
          ]
        },
        {
          "output_type": "stream",
          "name": "stdout",
          "text": [
            "[Epoch 30] Train Loss: 0.3560\n"
          ]
        },
        {
          "output_type": "stream",
          "name": "stderr",
          "text": [
            "[Train Epoch 31]: 100%|██████████| 1159/1159 [02:49<00:00,  6.83it/s]\n"
          ]
        },
        {
          "output_type": "stream",
          "name": "stdout",
          "text": [
            "[Epoch 31] Train Loss: 0.3431\n"
          ]
        },
        {
          "output_type": "stream",
          "name": "stderr",
          "text": [
            "[Train Epoch 32]: 100%|██████████| 1159/1159 [02:49<00:00,  6.83it/s]\n"
          ]
        },
        {
          "output_type": "stream",
          "name": "stdout",
          "text": [
            "[Epoch 32] Train Loss: 0.3278\n"
          ]
        },
        {
          "output_type": "stream",
          "name": "stderr",
          "text": [
            "[Train Epoch 33]: 100%|██████████| 1159/1159 [02:49<00:00,  6.83it/s]\n"
          ]
        },
        {
          "output_type": "stream",
          "name": "stdout",
          "text": [
            "[Epoch 33] Train Loss: 0.3097\n"
          ]
        },
        {
          "output_type": "stream",
          "name": "stderr",
          "text": [
            "[Train Epoch 34]: 100%|██████████| 1159/1159 [02:49<00:00,  6.84it/s]\n"
          ]
        },
        {
          "output_type": "stream",
          "name": "stdout",
          "text": [
            "[Epoch 34] Train Loss: 0.2992\n"
          ]
        },
        {
          "output_type": "stream",
          "name": "stderr",
          "text": [
            "[Train Epoch 35]: 100%|██████████| 1159/1159 [02:49<00:00,  6.83it/s]\n"
          ]
        },
        {
          "output_type": "stream",
          "name": "stdout",
          "text": [
            "[Epoch 35] Train Loss: 0.2906\n"
          ]
        },
        {
          "output_type": "stream",
          "name": "stderr",
          "text": [
            "[Train Epoch 36]: 100%|██████████| 1159/1159 [02:49<00:00,  6.84it/s]\n"
          ]
        },
        {
          "output_type": "stream",
          "name": "stdout",
          "text": [
            "[Epoch 36] Train Loss: 0.2762\n"
          ]
        },
        {
          "output_type": "stream",
          "name": "stderr",
          "text": [
            "[Train Epoch 37]: 100%|██████████| 1159/1159 [02:49<00:00,  6.84it/s]\n"
          ]
        },
        {
          "output_type": "stream",
          "name": "stdout",
          "text": [
            "[Epoch 37] Train Loss: 0.2703\n"
          ]
        },
        {
          "output_type": "stream",
          "name": "stderr",
          "text": [
            "[Train Epoch 38]: 100%|██████████| 1159/1159 [02:49<00:00,  6.83it/s]\n"
          ]
        },
        {
          "output_type": "stream",
          "name": "stdout",
          "text": [
            "[Epoch 38] Train Loss: 0.2623\n"
          ]
        },
        {
          "output_type": "stream",
          "name": "stderr",
          "text": [
            "[Train Epoch 39]: 100%|██████████| 1159/1159 [02:49<00:00,  6.84it/s]\n"
          ]
        },
        {
          "output_type": "stream",
          "name": "stdout",
          "text": [
            "[Epoch 39] Train Loss: 0.2540\n"
          ]
        },
        {
          "output_type": "stream",
          "name": "stderr",
          "text": [
            "[Train Epoch 40]: 100%|██████████| 1159/1159 [02:49<00:00,  6.84it/s]\n"
          ]
        },
        {
          "output_type": "stream",
          "name": "stdout",
          "text": [
            "[Epoch 40] Train Loss: 0.2442\n"
          ]
        },
        {
          "output_type": "stream",
          "name": "stderr",
          "text": [
            "[Train Epoch 41]: 100%|██████████| 1159/1159 [02:49<00:00,  6.84it/s]\n"
          ]
        },
        {
          "output_type": "stream",
          "name": "stdout",
          "text": [
            "[Epoch 41] Train Loss: 0.2413\n"
          ]
        },
        {
          "output_type": "stream",
          "name": "stderr",
          "text": [
            "[Train Epoch 42]: 100%|██████████| 1159/1159 [02:50<00:00,  6.82it/s]\n"
          ]
        },
        {
          "output_type": "stream",
          "name": "stdout",
          "text": [
            "[Epoch 42] Train Loss: 0.2313\n"
          ]
        },
        {
          "output_type": "stream",
          "name": "stderr",
          "text": [
            "[Train Epoch 43]: 100%|██████████| 1159/1159 [02:49<00:00,  6.83it/s]\n"
          ]
        },
        {
          "output_type": "stream",
          "name": "stdout",
          "text": [
            "[Epoch 43] Train Loss: 0.2292\n"
          ]
        },
        {
          "output_type": "stream",
          "name": "stderr",
          "text": [
            "[Train Epoch 44]: 100%|██████████| 1159/1159 [02:49<00:00,  6.83it/s]\n"
          ]
        },
        {
          "output_type": "stream",
          "name": "stdout",
          "text": [
            "[Epoch 44] Train Loss: 0.2217\n"
          ]
        },
        {
          "output_type": "stream",
          "name": "stderr",
          "text": [
            "[Train Epoch 45]: 100%|██████████| 1159/1159 [02:49<00:00,  6.85it/s]\n"
          ]
        },
        {
          "output_type": "stream",
          "name": "stdout",
          "text": [
            "[Epoch 45] Train Loss: 0.2160\n"
          ]
        },
        {
          "output_type": "stream",
          "name": "stderr",
          "text": [
            "[Train Epoch 46]: 100%|██████████| 1159/1159 [02:49<00:00,  6.83it/s]\n"
          ]
        },
        {
          "output_type": "stream",
          "name": "stdout",
          "text": [
            "[Epoch 46] Train Loss: 0.2111\n"
          ]
        },
        {
          "output_type": "stream",
          "name": "stderr",
          "text": [
            "[Train Epoch 47]: 100%|██████████| 1159/1159 [02:49<00:00,  6.83it/s]\n"
          ]
        },
        {
          "output_type": "stream",
          "name": "stdout",
          "text": [
            "[Epoch 47] Train Loss: 0.2065\n"
          ]
        },
        {
          "output_type": "stream",
          "name": "stderr",
          "text": [
            "[Train Epoch 48]: 100%|██████████| 1159/1159 [02:49<00:00,  6.84it/s]\n"
          ]
        },
        {
          "output_type": "stream",
          "name": "stdout",
          "text": [
            "[Epoch 48] Train Loss: 0.2049\n"
          ]
        },
        {
          "output_type": "stream",
          "name": "stderr",
          "text": [
            "[Train Epoch 49]: 100%|██████████| 1159/1159 [02:49<00:00,  6.83it/s]\n"
          ]
        },
        {
          "output_type": "stream",
          "name": "stdout",
          "text": [
            "[Epoch 49] Train Loss: 0.1984\n"
          ]
        },
        {
          "output_type": "stream",
          "name": "stderr",
          "text": [
            "[Train Epoch 50]: 100%|██████████| 1159/1159 [02:49<00:00,  6.84it/s]\n"
          ]
        },
        {
          "output_type": "stream",
          "name": "stdout",
          "text": [
            "[Epoch 50] Train Loss: 0.1953\n"
          ]
        },
        {
          "output_type": "stream",
          "name": "stderr",
          "text": [
            "[Train Epoch 51]: 100%|██████████| 1159/1159 [02:49<00:00,  6.84it/s]\n"
          ]
        },
        {
          "output_type": "stream",
          "name": "stdout",
          "text": [
            "[Epoch 51] Train Loss: 0.1942\n"
          ]
        },
        {
          "output_type": "stream",
          "name": "stderr",
          "text": [
            "[Train Epoch 52]: 100%|██████████| 1159/1159 [02:49<00:00,  6.84it/s]\n"
          ]
        },
        {
          "output_type": "stream",
          "name": "stdout",
          "text": [
            "[Epoch 52] Train Loss: 0.1887\n"
          ]
        },
        {
          "output_type": "stream",
          "name": "stderr",
          "text": [
            "[Train Epoch 53]: 100%|██████████| 1159/1159 [02:49<00:00,  6.83it/s]\n"
          ]
        },
        {
          "output_type": "stream",
          "name": "stdout",
          "text": [
            "[Epoch 53] Train Loss: 0.1857\n"
          ]
        },
        {
          "output_type": "stream",
          "name": "stderr",
          "text": [
            "[Train Epoch 54]: 100%|██████████| 1159/1159 [02:49<00:00,  6.84it/s]\n"
          ]
        },
        {
          "output_type": "stream",
          "name": "stdout",
          "text": [
            "[Epoch 54] Train Loss: 0.1832\n"
          ]
        },
        {
          "output_type": "stream",
          "name": "stderr",
          "text": [
            "[Train Epoch 55]: 100%|██████████| 1159/1159 [02:49<00:00,  6.84it/s]\n"
          ]
        },
        {
          "output_type": "stream",
          "name": "stdout",
          "text": [
            "[Epoch 55] Train Loss: 0.1760\n"
          ]
        },
        {
          "output_type": "stream",
          "name": "stderr",
          "text": [
            "[Train Epoch 56]: 100%|██████████| 1159/1159 [02:49<00:00,  6.85it/s]\n"
          ]
        },
        {
          "output_type": "stream",
          "name": "stdout",
          "text": [
            "[Epoch 56] Train Loss: 0.1765\n"
          ]
        },
        {
          "output_type": "stream",
          "name": "stderr",
          "text": [
            "[Train Epoch 57]: 100%|██████████| 1159/1159 [02:49<00:00,  6.84it/s]\n"
          ]
        },
        {
          "output_type": "stream",
          "name": "stdout",
          "text": [
            "[Epoch 57] Train Loss: 0.1720\n"
          ]
        },
        {
          "output_type": "stream",
          "name": "stderr",
          "text": [
            "[Train Epoch 58]: 100%|██████████| 1159/1159 [02:49<00:00,  6.84it/s]\n"
          ]
        },
        {
          "output_type": "stream",
          "name": "stdout",
          "text": [
            "[Epoch 58] Train Loss: 0.1718\n"
          ]
        },
        {
          "output_type": "stream",
          "name": "stderr",
          "text": [
            "[Train Epoch 59]: 100%|██████████| 1159/1159 [02:49<00:00,  6.86it/s]\n"
          ]
        },
        {
          "output_type": "stream",
          "name": "stdout",
          "text": [
            "[Epoch 59] Train Loss: 0.1659\n"
          ]
        },
        {
          "output_type": "stream",
          "name": "stderr",
          "text": [
            "[Train Epoch 60]: 100%|██████████| 1159/1159 [02:49<00:00,  6.85it/s]\n"
          ]
        },
        {
          "output_type": "stream",
          "name": "stdout",
          "text": [
            "[Epoch 60] Train Loss: 0.1635\n"
          ]
        },
        {
          "output_type": "stream",
          "name": "stderr",
          "text": [
            "[Train Epoch 61]: 100%|██████████| 1159/1159 [02:49<00:00,  6.84it/s]\n"
          ]
        },
        {
          "output_type": "stream",
          "name": "stdout",
          "text": [
            "[Epoch 61] Train Loss: 0.1625\n"
          ]
        },
        {
          "output_type": "stream",
          "name": "stderr",
          "text": [
            "[Train Epoch 62]: 100%|██████████| 1159/1159 [02:49<00:00,  6.85it/s]\n"
          ]
        },
        {
          "output_type": "stream",
          "name": "stdout",
          "text": [
            "[Epoch 62] Train Loss: 0.1599\n"
          ]
        },
        {
          "output_type": "stream",
          "name": "stderr",
          "text": [
            "[Train Epoch 63]: 100%|██████████| 1159/1159 [02:49<00:00,  6.85it/s]\n"
          ]
        },
        {
          "output_type": "stream",
          "name": "stdout",
          "text": [
            "[Epoch 63] Train Loss: 0.1597\n"
          ]
        },
        {
          "output_type": "stream",
          "name": "stderr",
          "text": [
            "[Train Epoch 64]: 100%|██████████| 1159/1159 [02:49<00:00,  6.84it/s]\n"
          ]
        },
        {
          "output_type": "stream",
          "name": "stdout",
          "text": [
            "[Epoch 64] Train Loss: 0.1552\n"
          ]
        },
        {
          "output_type": "stream",
          "name": "stderr",
          "text": [
            "[Train Epoch 65]: 100%|██████████| 1159/1159 [02:48<00:00,  6.87it/s]\n"
          ]
        },
        {
          "output_type": "stream",
          "name": "stdout",
          "text": [
            "[Epoch 65] Train Loss: 0.1544\n"
          ]
        },
        {
          "output_type": "stream",
          "name": "stderr",
          "text": [
            "[Train Epoch 66]: 100%|██████████| 1159/1159 [02:48<00:00,  6.86it/s]\n"
          ]
        },
        {
          "output_type": "stream",
          "name": "stdout",
          "text": [
            "[Epoch 66] Train Loss: 0.1523\n"
          ]
        },
        {
          "output_type": "stream",
          "name": "stderr",
          "text": [
            "[Train Epoch 67]: 100%|██████████| 1159/1159 [02:48<00:00,  6.86it/s]\n"
          ]
        },
        {
          "output_type": "stream",
          "name": "stdout",
          "text": [
            "[Epoch 67] Train Loss: 0.1487\n"
          ]
        },
        {
          "output_type": "stream",
          "name": "stderr",
          "text": [
            "[Train Epoch 68]: 100%|██████████| 1159/1159 [02:49<00:00,  6.85it/s]\n"
          ]
        },
        {
          "output_type": "stream",
          "name": "stdout",
          "text": [
            "[Epoch 68] Train Loss: 0.1478\n"
          ]
        },
        {
          "output_type": "stream",
          "name": "stderr",
          "text": [
            "[Train Epoch 69]: 100%|██████████| 1159/1159 [02:48<00:00,  6.86it/s]\n"
          ]
        },
        {
          "output_type": "stream",
          "name": "stdout",
          "text": [
            "[Epoch 69] Train Loss: 0.1461\n"
          ]
        },
        {
          "output_type": "stream",
          "name": "stderr",
          "text": [
            "[Train Epoch 70]: 100%|██████████| 1159/1159 [02:48<00:00,  6.87it/s]\n"
          ]
        },
        {
          "output_type": "stream",
          "name": "stdout",
          "text": [
            "[Epoch 70] Train Loss: 0.1463\n"
          ]
        },
        {
          "output_type": "stream",
          "name": "stderr",
          "text": [
            "[Train Epoch 71]: 100%|██████████| 1159/1159 [02:48<00:00,  6.87it/s]\n"
          ]
        },
        {
          "output_type": "stream",
          "name": "stdout",
          "text": [
            "[Epoch 71] Train Loss: 0.1454\n"
          ]
        },
        {
          "output_type": "stream",
          "name": "stderr",
          "text": [
            "[Train Epoch 72]: 100%|██████████| 1159/1159 [02:49<00:00,  6.84it/s]\n"
          ]
        },
        {
          "output_type": "stream",
          "name": "stdout",
          "text": [
            "[Epoch 72] Train Loss: 0.1386\n"
          ]
        },
        {
          "output_type": "stream",
          "name": "stderr",
          "text": [
            "[Train Epoch 73]: 100%|██████████| 1159/1159 [02:48<00:00,  6.86it/s]\n"
          ]
        },
        {
          "output_type": "stream",
          "name": "stdout",
          "text": [
            "[Epoch 73] Train Loss: 0.1397\n"
          ]
        },
        {
          "output_type": "stream",
          "name": "stderr",
          "text": [
            "[Train Epoch 74]: 100%|██████████| 1159/1159 [02:48<00:00,  6.87it/s]\n"
          ]
        },
        {
          "output_type": "stream",
          "name": "stdout",
          "text": [
            "[Epoch 74] Train Loss: 0.1380\n"
          ]
        },
        {
          "output_type": "stream",
          "name": "stderr",
          "text": [
            "[Train Epoch 75]: 100%|██████████| 1159/1159 [02:49<00:00,  6.86it/s]\n"
          ]
        },
        {
          "output_type": "stream",
          "name": "stdout",
          "text": [
            "[Epoch 75] Train Loss: 0.1387\n"
          ]
        },
        {
          "output_type": "stream",
          "name": "stderr",
          "text": [
            "[Train Epoch 76]: 100%|██████████| 1159/1159 [02:48<00:00,  6.86it/s]\n"
          ]
        },
        {
          "output_type": "stream",
          "name": "stdout",
          "text": [
            "[Epoch 76] Train Loss: 0.1364\n"
          ]
        },
        {
          "output_type": "stream",
          "name": "stderr",
          "text": [
            "[Train Epoch 77]: 100%|██████████| 1159/1159 [02:49<00:00,  6.84it/s]\n"
          ]
        },
        {
          "output_type": "stream",
          "name": "stdout",
          "text": [
            "[Epoch 77] Train Loss: 0.1332\n"
          ]
        },
        {
          "output_type": "stream",
          "name": "stderr",
          "text": [
            "[Train Epoch 78]: 100%|██████████| 1159/1159 [02:49<00:00,  6.85it/s]\n"
          ]
        },
        {
          "output_type": "stream",
          "name": "stdout",
          "text": [
            "[Epoch 78] Train Loss: 0.1343\n"
          ]
        },
        {
          "output_type": "stream",
          "name": "stderr",
          "text": [
            "[Train Epoch 79]: 100%|██████████| 1159/1159 [02:49<00:00,  6.85it/s]\n"
          ]
        },
        {
          "output_type": "stream",
          "name": "stdout",
          "text": [
            "[Epoch 79] Train Loss: 0.1314\n"
          ]
        },
        {
          "output_type": "stream",
          "name": "stderr",
          "text": [
            "[Train Epoch 80]: 100%|██████████| 1159/1159 [02:49<00:00,  6.85it/s]\n"
          ]
        },
        {
          "output_type": "stream",
          "name": "stdout",
          "text": [
            "[Epoch 80] Train Loss: 0.1290\n"
          ]
        },
        {
          "output_type": "stream",
          "name": "stderr",
          "text": [
            "[Train Epoch 81]: 100%|██████████| 1159/1159 [02:48<00:00,  6.86it/s]\n"
          ]
        },
        {
          "output_type": "stream",
          "name": "stdout",
          "text": [
            "[Epoch 81] Train Loss: 0.1282\n"
          ]
        },
        {
          "output_type": "stream",
          "name": "stderr",
          "text": [
            "[Train Epoch 82]: 100%|██████████| 1159/1159 [02:49<00:00,  6.85it/s]\n"
          ]
        },
        {
          "output_type": "stream",
          "name": "stdout",
          "text": [
            "[Epoch 82] Train Loss: 0.1289\n"
          ]
        },
        {
          "output_type": "stream",
          "name": "stderr",
          "text": [
            "[Train Epoch 83]: 100%|██████████| 1159/1159 [02:48<00:00,  6.87it/s]\n"
          ]
        },
        {
          "output_type": "stream",
          "name": "stdout",
          "text": [
            "[Epoch 83] Train Loss: 0.1263\n"
          ]
        },
        {
          "output_type": "stream",
          "name": "stderr",
          "text": [
            "[Train Epoch 84]: 100%|██████████| 1159/1159 [02:48<00:00,  6.87it/s]\n"
          ]
        },
        {
          "output_type": "stream",
          "name": "stdout",
          "text": [
            "[Epoch 84] Train Loss: 0.1288\n"
          ]
        },
        {
          "output_type": "stream",
          "name": "stderr",
          "text": [
            "[Train Epoch 85]: 100%|██████████| 1159/1159 [02:49<00:00,  6.85it/s]\n"
          ]
        },
        {
          "output_type": "stream",
          "name": "stdout",
          "text": [
            "[Epoch 85] Train Loss: 0.1234\n"
          ]
        },
        {
          "output_type": "stream",
          "name": "stderr",
          "text": [
            "[Train Epoch 86]: 100%|██████████| 1159/1159 [02:49<00:00,  6.85it/s]\n"
          ]
        },
        {
          "output_type": "stream",
          "name": "stdout",
          "text": [
            "[Epoch 86] Train Loss: 0.1239\n"
          ]
        },
        {
          "output_type": "stream",
          "name": "stderr",
          "text": [
            "[Train Epoch 87]: 100%|██████████| 1159/1159 [02:49<00:00,  6.85it/s]\n"
          ]
        },
        {
          "output_type": "stream",
          "name": "stdout",
          "text": [
            "[Epoch 87] Train Loss: 0.1230\n"
          ]
        },
        {
          "output_type": "stream",
          "name": "stderr",
          "text": [
            "[Train Epoch 88]: 100%|██████████| 1159/1159 [02:48<00:00,  6.86it/s]\n"
          ]
        },
        {
          "output_type": "stream",
          "name": "stdout",
          "text": [
            "[Epoch 88] Train Loss: 0.1205\n"
          ]
        },
        {
          "output_type": "stream",
          "name": "stderr",
          "text": [
            "[Train Epoch 89]: 100%|██████████| 1159/1159 [02:49<00:00,  6.84it/s]\n"
          ]
        },
        {
          "output_type": "stream",
          "name": "stdout",
          "text": [
            "[Epoch 89] Train Loss: 0.1211\n"
          ]
        },
        {
          "output_type": "stream",
          "name": "stderr",
          "text": [
            "[Train Epoch 90]: 100%|██████████| 1159/1159 [02:49<00:00,  6.84it/s]\n"
          ]
        },
        {
          "output_type": "stream",
          "name": "stdout",
          "text": [
            "[Epoch 90] Train Loss: 0.1190\n"
          ]
        },
        {
          "output_type": "stream",
          "name": "stderr",
          "text": [
            "[Train Epoch 91]: 100%|██████████| 1159/1159 [02:49<00:00,  6.84it/s]\n"
          ]
        },
        {
          "output_type": "stream",
          "name": "stdout",
          "text": [
            "[Epoch 91] Train Loss: 0.1184\n"
          ]
        },
        {
          "output_type": "stream",
          "name": "stderr",
          "text": [
            "[Train Epoch 92]: 100%|██████████| 1159/1159 [02:48<00:00,  6.86it/s]\n"
          ]
        },
        {
          "output_type": "stream",
          "name": "stdout",
          "text": [
            "[Epoch 92] Train Loss: 0.1169\n"
          ]
        },
        {
          "output_type": "stream",
          "name": "stderr",
          "text": [
            "[Train Epoch 93]: 100%|██████████| 1159/1159 [02:49<00:00,  6.85it/s]\n"
          ]
        },
        {
          "output_type": "stream",
          "name": "stdout",
          "text": [
            "[Epoch 93] Train Loss: 0.1180\n"
          ]
        },
        {
          "output_type": "stream",
          "name": "stderr",
          "text": [
            "[Train Epoch 94]: 100%|██████████| 1159/1159 [02:49<00:00,  6.85it/s]\n"
          ]
        },
        {
          "output_type": "stream",
          "name": "stdout",
          "text": [
            "[Epoch 94] Train Loss: 0.1154\n"
          ]
        },
        {
          "output_type": "stream",
          "name": "stderr",
          "text": [
            "[Train Epoch 95]: 100%|██████████| 1159/1159 [02:49<00:00,  6.85it/s]\n"
          ]
        },
        {
          "output_type": "stream",
          "name": "stdout",
          "text": [
            "[Epoch 95] Train Loss: 0.1156\n"
          ]
        },
        {
          "output_type": "stream",
          "name": "stderr",
          "text": [
            "[Train Epoch 96]: 100%|██████████| 1159/1159 [02:48<00:00,  6.87it/s]\n"
          ]
        },
        {
          "output_type": "stream",
          "name": "stdout",
          "text": [
            "[Epoch 96] Train Loss: 0.1156\n"
          ]
        },
        {
          "output_type": "stream",
          "name": "stderr",
          "text": [
            "[Train Epoch 97]: 100%|██████████| 1159/1159 [02:48<00:00,  6.87it/s]\n"
          ]
        },
        {
          "output_type": "stream",
          "name": "stdout",
          "text": [
            "[Epoch 97] Train Loss: 0.1135\n"
          ]
        },
        {
          "output_type": "stream",
          "name": "stderr",
          "text": [
            "[Train Epoch 98]: 100%|██████████| 1159/1159 [02:48<00:00,  6.90it/s]\n"
          ]
        },
        {
          "output_type": "stream",
          "name": "stdout",
          "text": [
            "[Epoch 98] Train Loss: 0.1142\n"
          ]
        },
        {
          "output_type": "stream",
          "name": "stderr",
          "text": [
            "[Train Epoch 99]: 100%|██████████| 1159/1159 [02:48<00:00,  6.88it/s]\n"
          ]
        },
        {
          "output_type": "stream",
          "name": "stdout",
          "text": [
            "[Epoch 99] Train Loss: 0.1124\n"
          ]
        },
        {
          "output_type": "stream",
          "name": "stderr",
          "text": [
            "[Train Epoch 100]: 100%|██████████| 1159/1159 [02:48<00:00,  6.89it/s]\n"
          ]
        },
        {
          "output_type": "stream",
          "name": "stdout",
          "text": [
            "[Epoch 100] Train Loss: 0.1091\n"
          ]
        }
      ],
      "source": [
        "#@title Training the model\n",
        "\n",
        "# padding token index\n",
        "pad_idx_src = src_vocab[\"<pad>\"]\n",
        "pad_idx_tgt = tgt_vocab[\"<pad>\"]\n",
        "\n",
        "# Transformer model\n",
        "model = Transformer(\n",
        "    src_vocab_size=len(src_vocab),\n",
        "    tgt_vocab_size=len(tgt_vocab),\n",
        "    d_model=512,\n",
        "    num_heads=8,\n",
        "    num_layers=6,\n",
        "    dropout=0.1\n",
        ").to(device)\n",
        "\n",
        "# loss function and optimizer\n",
        "criterion = nn.CrossEntropyLoss(ignore_index=pad_idx_tgt)\n",
        "optimizer = optim.Adam(model.parameters(), lr=1e-4)\n",
        "\n",
        "# Generating mask\n",
        "def make_src_mask(src, pad_idx):\n",
        "    return (src != pad_idx).unsqueeze(1).unsqueeze(2)  # [B, 1, 1, src_len]\n",
        "\n",
        "def make_tgt_mask(tgt, pad_idx):\n",
        "    B, T = tgt.size()\n",
        "    pad_mask = (tgt != pad_idx).unsqueeze(1).unsqueeze(2)  # [B, 1, 1, T]\n",
        "    look_ahead_mask = torch.tril(torch.ones((T, T), device=tgt.device)).bool()\n",
        "    look_ahead_mask = look_ahead_mask.unsqueeze(0).unsqueeze(1)  # [1, 1, T, T]\n",
        "    return pad_mask & look_ahead_mask\n",
        "\n",
        "# Validation data preprocessing and generating DataLoader\n",
        "val_src_sentences, val_tgt_sentences = preprocess(val_data)\n",
        "val_dataset = TranslationDataset(val_src_sentences, val_tgt_sentences, src_vocab, tgt_vocab)\n",
        "val_loader = DataLoader(val_dataset, batch_size=32, shuffle=False, collate_fn=collate_fn)\n",
        "\n",
        "# Result lists\n",
        "train_losses = []\n",
        "val_losses = []\n",
        "val_accuracies = []\n",
        "\n",
        "# The number of epochs\n",
        "NUM_EPOCHS = 100\n",
        "\n",
        "# Training\n",
        "for epoch in range(NUM_EPOCHS):\n",
        "    model.train()\n",
        "    total_loss = 0\n",
        "\n",
        "    for src_batch, tgt_batch in tqdm(train_loader, desc=f\"[Train Epoch {epoch+1}]\"):\n",
        "        src = src_batch.to(device)\n",
        "        tgt_input = tgt_batch[:, :-1].to(device)\n",
        "        tgt_output = tgt_batch[:, 1:].to(device)\n",
        "\n",
        "        src_mask = make_src_mask(src, pad_idx_src)\n",
        "        tgt_mask = make_tgt_mask(tgt_input, pad_idx_tgt)\n",
        "\n",
        "        # forward propagation\n",
        "        output = model(src, tgt_input, src_mask=src_mask, tgt_mask=tgt_mask)\n",
        "        output = output.reshape(-1, output.shape[-1])\n",
        "        tgt_output = tgt_output.reshape(-1)\n",
        "\n",
        "        # Loss calculation and backward propagation\n",
        "        loss = criterion(output, tgt_output)\n",
        "        loss.backward()\n",
        "        optimizer.step()\n",
        "        optimizer.zero_grad()\n",
        "\n",
        "        total_loss += loss.item()\n",
        "\n",
        "    avg_train_loss = total_loss / len(train_loader)\n",
        "    train_losses.append(avg_train_loss)\n",
        "    print(f\"[Epoch {epoch+1}] Train Loss: {avg_train_loss:.4f}\")\n",
        "\n",
        "    # Validation evaluation\n",
        "    model.eval()\n",
        "    val_loss = 0\n",
        "    correct = 0\n",
        "    total = 0\n",
        "\n",
        "    with torch.no_grad():\n",
        "        for src_batch, tgt_batch in val_loader:\n",
        "            src = src_batch.to(device)\n",
        "            tgt_input = tgt_batch[:, :-1].to(device)\n",
        "            tgt_output = tgt_batch[:, 1:].to(device)\n",
        "\n",
        "            src_mask = make_src_mask(src, pad_idx_src)\n",
        "            tgt_mask = make_tgt_mask(tgt_input, pad_idx_tgt)\n",
        "\n",
        "            output = model(src, tgt_input, src_mask=src_mask, tgt_mask=tgt_mask)  # [B, T, vocab]\n",
        "\n",
        "            # Validation loss\n",
        "            output_flat = output.reshape(-1, output.shape[-1])\n",
        "            tgt_flat   = tgt_output.reshape(-1)\n",
        "            loss = criterion(output_flat, tgt_flat)\n",
        "            val_loss += loss.item()\n",
        "\n",
        "            # Validation accuracy\n",
        "            preds   = output.argmax(dim=-1)           # [B, T]\n",
        "            non_pad = tgt_output != pad_idx_tgt\n",
        "            correct += ((preds == tgt_output) & non_pad).sum().item()\n",
        "            total   += non_pad.sum().item()\n",
        "\n",
        "    avg_val_loss = val_loss / len(val_loader)\n",
        "    accuracy     = correct / total\n",
        "\n",
        "    val_losses.append(avg_val_loss)\n",
        "    val_accuracies.append(accuracy)\n",
        ""
      ]
    },
    {
      "cell_type": "code",
      "source": [
        "#@title Visualization\n",
        "plt.figure(figsize=(12, 5))\n",
        "\n",
        "plt.subplot(1, 2, 1)\n",
        "plt.plot(train_losses, label='Train Loss')\n",
        "plt.plot(val_losses,   label='Val Loss')\n",
        "plt.xlabel('Epoch')\n",
        "plt.ylabel('Loss')\n",
        "plt.title('Loss per Epoch')\n",
        "plt.legend()\n",
        "\n",
        "plt.subplot(1, 2, 2)\n",
        "plt.plot(val_accuracies, label='Val Accuracy')\n",
        "plt.xlabel('Epoch')\n",
        "plt.ylabel('Accuracy')\n",
        "plt.title('Validation Accuracy per Epoch')\n",
        "plt.legend()\n",
        "\n",
        "plt.tight_layout()\n",
        "plt.show()"
      ],
      "metadata": {
        "colab": {
          "base_uri": "https://localhost:8080/",
          "height": 311
        },
        "id": "A4umPQSoxVX_",
        "outputId": "ba3d03c7-ecce-4e6c-c6d0-c95a0d93a312"
      },
      "execution_count": 32,
      "outputs": [
        {
          "output_type": "display_data",
          "data": {
            "text/plain": [
              "<Figure size 1200x500 with 2 Axes>"
            ],
            "image/png": "[encoded data removed]"
          },
          "metadata": {}
        }
      ]
    }
  ],
  "metadata": {
    "colab": {
      "provenance": [],
      "gpuType": "T4"
    },
    "kernelspec": {
      "display_name": "Python 3",
      "name": "python3"
    },
    "language_info": {
      "name": "python"
    },
    "accelerator": "GPU"
  },
  "nbformat": 4,
  "nbformat_minor": 0
}